{
 "cells": [
  {
   "cell_type": "code",
   "execution_count": null,
   "metadata": {},
   "outputs": [],
   "source": [
    "import lasio\n",
    "import pandas as pd"
   ]
  },
  {
   "cell_type": "code",
   "execution_count": null,
   "metadata": {},
   "outputs": [],
   "source": [
    "datafile= '721918D.las' # las file to read in\n",
    "l = lasio.read(datafile) # lasio"
   ]
  },
  {
   "cell_type": "code",
   "execution_count": null,
   "metadata": {},
   "outputs": [],
   "source": [
    "df = l.df() # making a dataframe"
   ]
  },
  {
   "cell_type": "code",
   "execution_count": null,
   "metadata": {},
   "outputs": [],
   "source": [
    "df.head(3) # lets inspect it"
   ]
  },
  {
   "cell_type": "code",
   "execution_count": null,
   "metadata": {},
   "outputs": [],
   "source": [
    "df.insert(0,'DEPTH',df.index.values[::-1]) # adding a flipped depth column\n",
    "df.insert(15,'DEPT_ORIGINAL_FT',df.DEPTH.values[::-1]) # adding the original depths to the end\n",
    "df2 = df.set_index('DEPTH') # setting the index to the new depth\n",
    "df2.head(3) "
   ]
  },
  {
   "cell_type": "markdown",
   "metadata": {},
   "source": [
    "Let's now make a new .las file with this data frame"
   ]
  },
  {
   "cell_type": "code",
   "execution_count": null,
   "metadata": {},
   "outputs": [],
   "source": [
    "# Making a new las file\n",
    "las = lasio.LASFile() # making a empty las file \n",
    "las.set_data_from_df(df2) #setting the data from the data frame, and the index\n",
    "# las.header = l.header # this is what I really want to do\n",
    "\n",
    "las.other = 'Modified by Thomas Martin, Colorado School of Mines, Chevron Center of Research Excellence. Fall 2019'\n",
    "las.write('E934_Flipped_v3.las', version=2) #writing out "
   ]
  },
  {
   "cell_type": "markdown",
   "metadata": {},
   "source": [
    "I will manually copy over the header from the original file to the new one, seems that is the easiest way?"
   ]
  },
  {
   "cell_type": "code",
   "execution_count": null,
   "metadata": {},
   "outputs": [],
   "source": []
  }
 ],
 "metadata": {
  "kernelspec": {
   "display_name": "Python [conda env:wells]",
   "language": "python",
   "name": "conda-env-wells-py"
  },
  "language_info": {
   "codemirror_mode": {
    "name": "ipython",
    "version": 3
   },
   "file_extension": ".py",
   "mimetype": "text/x-python",
   "name": "python",
   "nbconvert_exporter": "python",
   "pygments_lexer": "ipython3",
   "version": "3.6.5"
  }
 },
 "nbformat": 4,
 "nbformat_minor": 2
}
